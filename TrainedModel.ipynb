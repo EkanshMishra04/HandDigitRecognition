import numpy as np
import matplotlib.pyplot as plt
import keras
from keras.models import Sequential
from keras.layers import Dense,Conv2D,MaxPool2D,Flatten,Dropout
from keras.datasets import mnist
(x_train, y_train), (x_test, y_test) = mnist.load_data()
x_train.shape, y_train.shape,x_test.shape, y_test.shape
def plot_input_img(i):
    plt.imshow(x_train[i],cmap='binary')
    plt.title(y_train[i])
    plt.show()
 for i in range(10):
plot_input_img(i)
x_train = x_train.astype(np.float32)/255
x_test = x_test.astype(np.float32)/255
x_train = np.expand_dims(x_train,-1)
x_test = np.expand_dims(x_test,-1)
from keras.utils import np_utils
y_train = keras.utils.np_utils.to_categorical(y_train)
y_test = keras.utils.np_utils.to_categorical(y_test)
model = Sequential()
model.add(Conv2D(32, (3,3), input_shape = (28,28,1),activation='relu'))
model.add(MaxPool2D((2,2)))
model.add(Conv2D(64, (3,3),activation = 'relu'))
model.add(MaxPool2D((2,2)))
model.add(Flatten())
model.add(Dropout(0.25))
model.add(Dense(10,activation = "softmax"))
model.summary()
model.compile(optimizer='adam',loss = keras.losses.categorical_crossentropy , metrics =['accuracy'])
from keras.callbacks import EarlyStopping,ModelCheckpoint
es=EarlyStopping(monitor='val_acc',min_delta = 0.01,patience=4,verbose=1)
mc=ModelCheckpoint("./bestmodel.h5",monitor="val_acc",verbose =1, save_best_only=True)
cb = [es,mc]
his = model.fit(x_train,y_train, epochs=5,validation_split = 0.3 , callbacks=cb)
model.save('C:/Users/ekans/otherMLmodels/hand new/bestmodel.h5')
model_S = keras.models.load_model('C:/Users/ekans/otherMLmodels/hand new/bestmodel.h5')
#evaluate
score = model_S.evaluate(x_test,y_test)
print(f" the model accuracy is{score[1]}")
import matplotlib.pyplot as plt


his.history.keys()
plt.style.use('fivethirtyeight')
epochs = [i for i in range(5)]
fig , ax = plt.subplots(1,2)
train_acc = his.history['accuracy']
train_loss = his.history['loss']
test_acc = his.history['val_accuracy']
test_loss = his.history['val_loss']

fig.set_size_inches(20,6)
ax[0].plot(epochs , train_loss , label = 'Training Loss')
ax[0].plot(epochs , test_loss , label = 'Testing Loss')
ax[0].set_title('Training & Testing Loss')
ax[0].legend()
ax[0].set_xlabel("Epochs")

ax[1].plot(epochs , train_acc , label = 'Training Accuracy')
ax[1].plot(epochs , test_acc , label = 'Testing Accuracy')
ax[1].set_title('Training & Testing Accuracy')
ax[1].legend()
ax[1].set_xlabel("Epochs")
plt.show()